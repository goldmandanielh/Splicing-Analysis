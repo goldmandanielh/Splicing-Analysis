{
 "cells": [
  {
   "cell_type": "code",
   "execution_count": 1,
   "metadata": {},
   "outputs": [],
   "source": [
    "import pysam as ps\n",
    "working_directory = '/Library/MinKNOW/alignments/'\n",
    "bam_file = ps.AlignmentFile(working_directory + 'CMV_ST.bam', \"rb\")"
   ]
  },
  {
   "cell_type": "code",
   "execution_count": 24,
   "metadata": {},
   "outputs": [
    {
     "name": "stdout",
     "output_type": "stream",
     "text": [
      "862\n"
     ]
    },
    {
     "data": {
      "text/plain": [
       "[((1272, 2921), 146),\n",
       " ((1116, 2921), 53),\n",
       " ((1560, 2921), 18),\n",
       " ((2568, 2921), 15),\n",
       " ((1915, 2921), 1),\n",
       " ((1041, 2921), 1),\n",
       " ((2920, 2921), 1),\n",
       " ((1557, 2921), 1),\n",
       " ((2817, 2921), 1),\n",
       " ((2919, 2921), 1),\n",
       " ((2124, 2921), 1),\n",
       " ((1529, 2921), 1),\n",
       " ((1457, 2921), 1)]"
      ]
     },
     "execution_count": 24,
     "metadata": {},
     "output_type": "execute_result"
    }
   ],
   "source": [
    "import operator\n",
    "count = 0\n",
    "for read in [r for r in bam_file.fetch(reference = 'pcDNA_CMV_ST.dna') if (not r.is_secondary) and (not r.is_reverse)]:\n",
    "    if read.reference_start < 2871 and read.reference_end > 2971:\n",
    "        count += 1\n",
    "print count\n",
    "reads = [r for r in bam_file.fetch(reference = 'pcDNA_CMV_ST.dna')]\n",
    "x = bam_file.find_introns(reads)\n",
    "v = dict()\n",
    "for val in x:\n",
    "    if val[1] == 2921:\n",
    "        v.update({val:x[val]})\n",
    "sorted_v = sorted(v.items(), key=operator.itemgetter(1), reverse = True)\n",
    "sorted_x = sorted(x.items(), key=operator.itemgetter(1), reverse = True)\n",
    "sorted_v"
   ]
  },
  {
   "cell_type": "code",
   "execution_count": null,
   "metadata": {},
   "outputs": [],
   "source": []
  }
 ],
 "metadata": {
  "anaconda-cloud": {},
  "kernelspec": {
   "display_name": "Python [Root]",
   "language": "python",
   "name": "Python [Root]"
  },
  "language_info": {
   "codemirror_mode": {
    "name": "ipython",
    "version": 2
   },
   "file_extension": ".py",
   "mimetype": "text/x-python",
   "name": "python",
   "nbconvert_exporter": "python",
   "pygments_lexer": "ipython2",
   "version": "2.7.12"
  }
 },
 "nbformat": 4,
 "nbformat_minor": 2
}
